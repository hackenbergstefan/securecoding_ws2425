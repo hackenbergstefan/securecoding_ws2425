{
 "cells": [
  {
   "cell_type": "markdown",
   "metadata": {},
   "source": [
    "# Template Attack"
   ]
  },
  {
   "cell_type": "code",
   "execution_count": null,
   "metadata": {},
   "outputs": [],
   "source": [
    "%load_ext autoreload\n",
    "%autoreload 2\n",
    "\n",
    "import os\n",
    "import random\n",
    "\n",
    "import lascar\n",
    "import numpy as np\n",
    "import plotly.graph_objects as pgo\n",
    "from cwtoolbox import CaptureDevice"
   ]
  },
  {
   "cell_type": "code",
   "execution_count": null,
   "metadata": {},
   "outputs": [],
   "source": [
    "capture_device = CaptureDevice.create(\"CWLITEXMEGA\")\n",
    "capture_device.compile(code=\"volatile uint8_t i = input[0];\")\n",
    "capture_device.flash()"
   ]
  },
  {
   "cell_type": "code",
   "execution_count": null,
   "metadata": {},
   "outputs": [],
   "source": [
    "datas = [\n",
    "    capture_device.capture(number_of_traces=1000, input=lambda _: value)\n",
    "    for value in (b\"\\x00\", b\"\\xf0\", b\"\\xff\")\n",
    "]"
   ]
  },
  {
   "cell_type": "code",
   "execution_count": null,
   "metadata": {},
   "outputs": [],
   "source": [
    "fig = pgo.Figure()\n",
    "for trace in data[:20]:\n",
    "    fig.add_trace(pgo.Scatter(y=trace[\"trace\"]))\n",
    "fig.show()"
   ]
  },
  {
   "cell_type": "code",
   "execution_count": null,
   "metadata": {},
   "outputs": [],
   "source": [
    "poi = 25\n",
    "fig = pgo.Figure()\n",
    "for data in datas:\n",
    "    hist = np.histogram(data[\"trace\"][:, poi], bins=8, density=True)\n",
    "    fig.add_trace(pgo.Bar(y=hist[0], x=hist[1], width=0.001))\n",
    "fig.show()\n"
   ]
  },
  {
   "cell_type": "markdown",
   "metadata": {},
   "source": [
    "## Find Points of Interest"
   ]
  },
  {
   "cell_type": "code",
   "execution_count": null,
   "metadata": {},
   "outputs": [],
   "source": [
    "import itertools\n",
    "\n",
    "data = capture_device.capture(number_of_traces=10000, input=lambda _: random.randbytes(1))\n",
    "\n",
    "def group_traces_by_hw(data):\n",
    "    return {\n",
    "        hw: np.array(\n",
    "            [\n",
    "                trace[\"trace\"]\n",
    "                for trace in data\n",
    "                if lascar.hamming(trace[\"input\"][0]) == hw\n",
    "            ]\n",
    "        )\n",
    "        for hw in range(9)\n",
    "    }\n",
    "\n",
    "\n",
    "def grouped_diffs(data_grouped):\n",
    "    means = {\n",
    "        hw: np.nan_to_num(np.nanmean(data_grouped[hw], axis=0))\n",
    "        for hw in range(9)\n",
    "    }\n",
    "    return sum(\n",
    "        (meani - meanj) ** 2\n",
    "        for meani, meanj in itertools.product(means.values(), repeat=2)\n",
    "    )\n",
    "\n",
    "# Calculate the diff \"where the traces differ at most\"\n",
    "diffs = grouped_diffs(group_traces_by_hw(data))\n",
    "pois = np.argsort(diffs)[-5:]\n",
    "\n",
    "fig = pgo.Figure()\n",
    "fig.add_trace(pgo.Scatter(y=diffs))\n",
    "fig.show()\n",
    "\n",
    "pois"
   ]
  },
  {
   "cell_type": "markdown",
   "metadata": {},
   "source": [
    "## Generate Templates"
   ]
  },
  {
   "cell_type": "code",
   "execution_count": null,
   "metadata": {},
   "outputs": [],
   "source": [
    "import sklearn.discriminant_analysis\n",
    "\n",
    "def selection_function(value):\n",
    "    return lascar.hamming(value[\"input\"][0])\n",
    "\n",
    "classifier_qda = sklearn.discriminant_analysis.QuadraticDiscriminantAnalysis(store_covariance=True)\n",
    "classifier_profile_engine_qda = lascar.ProfileEngine(\n",
    "    classifier=classifier_qda,\n",
    "    partition_function=selection_function,\n",
    "    partition_range=range(9),\n",
    ")\n",
    "trace = lascar.TraceBatchContainer(data[\"trace\"], data)\n",
    "trace.leakage_section = pois\n",
    "lascar.Session(\n",
    "    container=trace,\n",
    "    engine=classifier_profile_engine_qda\n",
    ").run()"
   ]
  },
  {
   "cell_type": "markdown",
   "metadata": {},
   "source": [
    "## Attack using Templates"
   ]
  },
  {
   "cell_type": "code",
   "execution_count": null,
   "metadata": {},
   "outputs": [],
   "source": [
    "value = b\"\\x01\"\n",
    "data_attack = capture_device.capture(number_of_traces=1, input=lambda _: value)"
   ]
  },
  {
   "cell_type": "code",
   "execution_count": null,
   "metadata": {},
   "outputs": [],
   "source": [
    "def selection_function(value, guess):\n",
    "    return lascar.hamming(guess)\n",
    "\n",
    "classifier_match_engine_qda = lascar.MatchEngine(\n",
    "    classifier=classifier_qda,\n",
    "    selection_function=selection_function,\n",
    "    guess_range=range(256),\n",
    ")\n",
    "trace = lascar.TraceBatchContainer(data_attack[\"trace\"], data_attack)\n",
    "trace.leakage_section = pois\n",
    "session = lascar.Session(\n",
    "    trace,\n",
    "    engine=classifier_match_engine_qda,\n",
    "    output_method=lascar.TableOutputMethod(classifier_match_engine_qda),\n",
    ").run()"
   ]
  }
 ],
 "metadata": {
  "kernelspec": {
   "display_name": ".venv",
   "language": "python",
   "name": "python3"
  },
  "language_info": {
   "codemirror_mode": {
    "name": "ipython",
    "version": 3
   },
   "file_extension": ".py",
   "mimetype": "text/x-python",
   "name": "python",
   "nbconvert_exporter": "python",
   "pygments_lexer": "ipython3",
   "version": "3.12.7"
  }
 },
 "nbformat": 4,
 "nbformat_minor": 2
}
