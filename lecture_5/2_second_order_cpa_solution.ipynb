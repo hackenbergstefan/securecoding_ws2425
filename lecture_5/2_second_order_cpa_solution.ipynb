{
 "cells": [
  {
   "attachments": {},
   "cell_type": "markdown",
   "metadata": {},
   "source": [
    "# Second order Correlation Power Analysis"
   ]
  },
  {
   "cell_type": "code",
   "execution_count": null,
   "metadata": {},
   "outputs": [],
   "source": [
    "%load_ext autoreload\n",
    "%autoreload 2\n",
    "\n",
    "import os\n",
    "import random\n",
    "\n",
    "import lascar\n",
    "import numpy as np\n",
    "import plotly.graph_objects as pgo\n",
    "from cwtoolbox import CaptureDevice\n",
    "from cwtoolbox.analyze import cpa"
   ]
  },
  {
   "attachments": {},
   "cell_type": "markdown",
   "metadata": {},
   "source": [
    "### Masking the SBox output\n",
    "\n",
    "Given a mask $m_o$ then a _SBox with output mask_ is a modified AES-SBOX $\\mathrm{SBOX'}$ with the property:\n",
    "\n",
    "$$ \\mathrm{SBOX'}(\\mathrm{pt}_i \\oplus k_i) = \\mathrm{SBOX}(\\mathrm{pt}_i \\oplus k_i) \\oplus m_o $$\n",
    "\n",
    "Where $k_i$ is the $i$-th key byte and $\\mathrm{pt}_i$ the $i$-th input byte.\n"
   ]
  },
  {
   "cell_type": "code",
   "execution_count": null,
   "metadata": {},
   "outputs": [],
   "source": [
    "capture_device = CaptureDevice.create(\"CWLITEXMEGA\")\n",
    "capture_device.compile(file=os.path.abspath(\"sbox_lookup_masking_second_order.c\"))\n",
    "capture_device.flash()"
   ]
  },
  {
   "cell_type": "code",
   "execution_count": null,
   "metadata": {},
   "outputs": [],
   "source": [
    "data = capture_device.capture(\n",
    "    number_of_traces=1000,\n",
    "    input=lambda _: random.randbytes(32),\n",
    ")"
   ]
  },
  {
   "cell_type": "code",
   "execution_count": null,
   "metadata": {},
   "outputs": [],
   "source": [
    "fig = pgo.Figure()\n",
    "fig.add_trace(pgo.Scatter(y=data[\"trace\"][0]))\n",
    "fig.show()"
   ]
  },
  {
   "cell_type": "code",
   "execution_count": null,
   "metadata": {},
   "outputs": [],
   "source": [
    "def sbox_output_selection_function(key_index):\n",
    "    def selection_function(value, guess):\n",
    "        return lascar.hamming(lascar.tools.aes.sbox[value[\"input\"][key_index] ^ guess])\n",
    "    return selection_function\n",
    "\n",
    "correlations = cpa(\n",
    "    dataset=data,\n",
    "    selection_functions={f\"key {i}\": sbox_output_selection_function(i) for i in range(16)},\n",
    "    guess_range=range(256),\n",
    "    higherorder_rois=(range(40, 50), range(9309, 10584)),\n",
    "    progressbar=True,\n",
    ")"
   ]
  },
  {
   "cell_type": "code",
   "execution_count": null,
   "metadata": {},
   "outputs": [],
   "source": [
    "fig = pgo.Figure()\n",
    "for key_index, corrs in correlations[:5]:\n",
    "    for idx, corr in corrs[:5]:\n",
    "        fig.add_trace(pgo.Scattergl(y=abs(corr), name=f\"{key_index}: Guess {idx}\"))\n",
    "fig.show()\n",
    "\n",
    "for key_index, corrs in correlations:\n",
    "    max_corrs = [max(abs(corr)) for _, corr in corrs]\n",
    "    print(f\"Key {key_index}: Best guess: {np.argmax(max_corrs):02x}\")"
   ]
  }
 ],
 "metadata": {
  "kernelspec": {
   "display_name": ".venv",
   "language": "python",
   "name": "python3"
  },
  "language_info": {
   "codemirror_mode": {
    "name": "ipython",
    "version": 3
   },
   "file_extension": ".py",
   "mimetype": "text/x-python",
   "name": "python",
   "nbconvert_exporter": "python",
   "pygments_lexer": "ipython3",
   "version": "3.12.6"
  }
 },
 "nbformat": 4,
 "nbformat_minor": 2
}
