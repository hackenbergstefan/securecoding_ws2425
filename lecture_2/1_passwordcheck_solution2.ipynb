{
 "cells": [
  {
   "cell_type": "markdown",
   "metadata": {},
   "source": [
    "# Attack a password check\n",
    "\n",
    "#### Learning goals:\n",
    "- Learn how a \"bad\" password check looks like\n",
    "- Learn how to run code from C files on ChipWhisperer\n",
    "- Learn how to read output from ChipWhisperer\n",
    "- Learn how to exploit different program flows\n",
    "- Learn how a SAD attack works"
   ]
  },
  {
   "cell_type": "code",
   "execution_count": null,
   "metadata": {},
   "outputs": [],
   "source": [
    "%load_ext autoreload\n",
    "%autoreload 2\n",
    "\n",
    "import os\n",
    "from pathlib import Path\n",
    "\n",
    "import plotly.graph_objects as pgo\n",
    "from cwtoolbox import CaptureDevice"
   ]
  },
  {
   "cell_type": "code",
   "execution_count": null,
   "metadata": {},
   "outputs": [],
   "source": [
    "# Create a capture device, compile and flash target application\n",
    "\n",
    "device = CaptureDevice.create(\"CWLITEXMEGA\")\n",
    "device.compile(file=str(Path(\"passwordcheck.c\").resolve()))\n",
    "device.flash()"
   ]
  },
  {
   "cell_type": "code",
   "execution_count": null,
   "metadata": {},
   "outputs": [],
   "source": [
    "# Capture one trace with input b\"helloinfineon\"\n",
    "\n",
    "def input_data(index):\n",
    "    return b\"helloinfineon\"\n",
    "\n",
    "trace = device.capture(\n",
    "    number_of_traces=1,\n",
    "    input=input_data,\n",
    "    number_of_samples=1000\n",
    ")"
   ]
  },
  {
   "cell_type": "code",
   "execution_count": null,
   "metadata": {},
   "outputs": [],
   "source": [
    "# Plot the first captured trace\n",
    "fig = pgo.Figure()\n",
    "fig.add_trace(pgo.Scatter(y=trace[\"trace\"][0]))\n",
    "fig.show()"
   ]
  },
  {
   "cell_type": "code",
   "execution_count": null,
   "metadata": {},
   "outputs": [],
   "source": [
    "# Capture traces with different inputs\n",
    "\n",
    "def input_data(index):\n",
    "    data = [\n",
    "        b\"helloinfineon\",\n",
    "        b\"ifx-hello    \",\n",
    "        b\"in...........\",\n",
    "        b\"inabcdefghijk\",\n",
    "        b\"inf..........\",\n",
    "    ]\n",
    "    return data[index]\n",
    "\n",
    "trace = device.capture(\n",
    "    number_of_traces=5,\n",
    "    input=input_data,\n",
    "    number_of_samples=1000\n",
    ")"
   ]
  },
  {
   "cell_type": "code",
   "execution_count": null,
   "metadata": {},
   "outputs": [],
   "source": [
    "# Plot all recorded traces\n",
    "\n",
    "fig = pgo.Figure()\n",
    "for i in range(len(trace)):\n",
    "    fig.add_trace(pgo.Scatter(y=trace[\"trace\"][i], name=str(bytes(trace[\"input\"][i]))))\n",
    "fig.update_layout(title=\"Recorded Traces\", xaxis_title=\"Sample Index\", yaxis_title=\"Amplitude\")\n",
    "fig.show()"
   ]
  },
  {
   "cell_type": "code",
   "execution_count": null,
   "metadata": {},
   "outputs": [],
   "source": [
    "# Plot all traces and shift each trace by 0.5 down\n",
    "\n",
    "fig = pgo.Figure()\n",
    "for i in range(len(trace)):\n",
    "    fig.add_trace(pgo.Scatter(y=trace[\"trace\"][i] - i * 0.5, name=str(bytes(trace[\"input\"][i]))))\n",
    "fig.update_layout(title=\"Recorded Traces\", xaxis_title=\"Sample Index\", yaxis_title=\"Amplitude\")\n",
    "fig.show()"
   ]
  },
  {
   "cell_type": "markdown",
   "metadata": {},
   "source": [
    "We see that with each additional matching character the significant spot moves to the right."
   ]
  },
  {
   "cell_type": "code",
   "execution_count": null,
   "metadata": {},
   "outputs": [],
   "source": [
    "def sad(trace1, trace2) -> float:\n",
    "    \"\"\"Sum of absolute differences\"\"\"\n",
    "    return sum(abs(trace1 - trace2))"
   ]
  },
  {
   "cell_type": "code",
   "execution_count": null,
   "metadata": {},
   "outputs": [],
   "source": [
    "# Plot the differences in the traces\n",
    "\n",
    "# Use first recorded trace as bases\n",
    "# base_trace = {\"trace\": [...], \"input\": [...]}\n",
    "base_trace = trace[2]\n",
    "\n",
    "fig = pgo.Figure()\n",
    "for i in range(len(trace)):\n",
    "    fig.add_trace(\n",
    "        pgo.Scatter(\n",
    "            # Plot the absolute difference of two traces\n",
    "            y=abs(base_trace[\"trace\"] - trace[\"trace\"][i]) - i * 0.5,\n",
    "            name=str(bytes(base_trace[\"input\"]))\n",
    "            + \" - \"\n",
    "            + str(bytes(trace[\"input\"][i]))\n",
    "            + \" sad = \" + str(sad(base_trace[\"trace\"], trace[\"trace\"][i]))\n",
    "        )\n",
    "    )\n",
    "fig.update_layout(\n",
    "    title=\"Recorded Traces\", xaxis_title=\"Sample Index\", yaxis_title=\"Amplitude\"\n",
    ")\n",
    "fig.show()"
   ]
  },
  {
   "cell_type": "markdown",
   "metadata": {},
   "source": [
    "We recognize:\n",
    "- The SAD value is \"big\" if two traces differ in the amount of correct characters.\n",
    "- The SAD value is \"small\" if two traces are equal in the amount of correct characters independent of the other characters."
   ]
  },
  {
   "cell_type": "code",
   "execution_count": null,
   "metadata": {},
   "outputs": [],
   "source": [
    "# Attack using the SAD value\n",
    "# Assume:\n",
    "# - The password consists only of string.ascii_lowercase\n",
    "# - The password is 8 characters long\n",
    "# - Use sad threshold from values above\n",
    "\n",
    "import string\n",
    "\n",
    "\n",
    "def record_attempt(attempt: str):\n",
    "    return device.capture(\n",
    "        number_of_traces=1,\n",
    "        number_of_samples=1000,\n",
    "        input=lambda _: attempt.encode(),\n",
    "    )[\"trace\"][0]\n",
    "\n",
    "\n",
    "def sad_attack(\n",
    "    characters=string.ascii_lowercase,\n",
    "    threshold=30,\n",
    "    password_length=8,\n",
    "    wrong_character=\" \",\n",
    "):\n",
    "    # 1. Record base_trace. All characters wrong!\n",
    "    # 2. Iterate over characters\n",
    "    # 2a. Construct new guess by appending current character to\n",
    "    #     already revealed part.\n",
    "    # 2b. If sad between guess trace and base_trace is bigger than threshold:\n",
    "    #     add current character to revealed part.\n",
    "    # 3. Record new base_trace with already revealed password and wrong character.\n",
    "\n",
    "    already_revealed = \"\"\n",
    "\n",
    "    base_trace = record_attempt(password_length * wrong_character)\n",
    "\n",
    "    for _ in range(password_length):\n",
    "        for character in characters:\n",
    "            current_guess = already_revealed + character\n",
    "            guess_trace = record_attempt(current_guess)\n",
    "            print(\n",
    "                \"already_revealed:\",\n",
    "                already_revealed,\n",
    "                \"current_guess:\",\n",
    "                current_guess,\n",
    "                \"sad:\",\n",
    "                sad(base_trace, guess_trace),\n",
    "            )\n",
    "            if sad(base_trace, guess_trace) > threshold:\n",
    "                print(\"\\nNEW REVEALED CHARACTER \", character, \"\\n\")\n",
    "                already_revealed += character\n",
    "                base_trace = record_attempt(already_revealed + wrong_character)\n",
    "                break\n",
    "\n",
    "    return already_revealed\n",
    "\n",
    "\n",
    "sad_attack()"
   ]
  }
 ],
 "metadata": {
  "kernelspec": {
   "display_name": ".venv",
   "language": "python",
   "name": "python3"
  },
  "language_info": {
   "codemirror_mode": {
    "name": "ipython",
    "version": 3
   },
   "file_extension": ".py",
   "mimetype": "text/x-python",
   "name": "python",
   "nbconvert_exporter": "python",
   "pygments_lexer": "ipython3",
   "version": "3.12.6"
  }
 },
 "nbformat": 4,
 "nbformat_minor": 2
}
