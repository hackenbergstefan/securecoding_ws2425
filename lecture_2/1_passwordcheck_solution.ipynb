{
 "cells": [
  {
   "cell_type": "markdown",
   "metadata": {},
   "source": [
    "# Attack a password check\n",
    "\n",
    "#### Learning goals:\n",
    "- Learn how a \"bad\" password check looks like\n",
    "- Learn how to run code from C files on ChipWhisperer\n",
    "- Learn how to read output from ChipWhisperer\n",
    "- Learn how to exploit different program flows\n",
    "- Learn how a SAD attack works"
   ]
  },
  {
   "cell_type": "code",
   "execution_count": null,
   "metadata": {},
   "outputs": [],
   "source": [
    "%load_ext autoreload\n",
    "%autoreload 2\n",
    "\n",
    "import os\n",
    "\n",
    "import numpy as np\n",
    "import plotly.graph_objects as pgo\n",
    "from cwtoolbox import CaptureDevice"
   ]
  },
  {
   "cell_type": "markdown",
   "metadata": {},
   "source": [
    "## 1. Record traces from passwordcheck.c"
   ]
  },
  {
   "cell_type": "code",
   "execution_count": null,
   "metadata": {},
   "outputs": [],
   "source": [
    "capture_device = CaptureDevice.create(\"CWLITEXMEGA\")\n",
    "capture_device.compile(file=os.path.abspath(\"passwordcheck.c\"))\n",
    "capture_device.flash()"
   ]
  },
  {
   "cell_type": "code",
   "execution_count": null,
   "metadata": {},
   "outputs": [],
   "source": [
    "data = capture_device.capture(\n",
    "    number_of_traces=1,\n",
    "    number_of_samples=100,\n",
    "    input=lambda _: 8 * b\"a\"\n",
    ")"
   ]
  },
  {
   "cell_type": "markdown",
   "metadata": {},
   "source": [
    "<div style=\"border: 3px solid plum; border-radius: 5px; padding: 5px; width: calc(100% - 20px);\">\n",
    "<div class=\"h2\" style=\"font-variant: all-small-caps;\">Exercise 1</div>\n",
    "\n",
    "1. Understand [passwordcheck.c](passwordcheck.c). What is `setup()`, `run()`, and `teardown()`?\n",
    "2. Think about problems in this C code. \n",
    "   What happens if `input` smaller than the stored password?\n",
    "\n",
    "</div>"
   ]
  },
  {
   "cell_type": "markdown",
   "metadata": {},
   "source": [
    "<div style=\"border: 3px solid plum; border-radius: 5px; padding: 5px; width: calc(100% - 20px);\">\n",
    "<div class=\"h2\" style=\"font-variant: all-small-caps;\">Exercise 2</div>\n",
    "\n",
    "1. Record traces with different inputs.\n",
    "2. Plot the recorded traces. Is there a difference?\n",
    "\n",
    "</div>"
   ]
  },
  {
   "cell_type": "code",
   "execution_count": null,
   "metadata": {},
   "outputs": [],
   "source": [
    "data = capture_device.capture(\n",
    "    number_of_traces=7,\n",
    "    number_of_samples=500,\n",
    "    input=lambda i: [\n",
    "        b\"00000000\",\n",
    "        b\"i0000000\",\n",
    "        b\"in000000\",\n",
    "        b\"ina00000\",\n",
    "        b\"inb00000\",\n",
    "        b\"inc00000\",\n",
    "        b\"inf00000\",\n",
    "    ][i],\n",
    ")\n",
    "\n",
    "fig = pgo.Figure()\n",
    "for i, d in enumerate(data):\n",
    "    fig.add_trace(\n",
    "        pgo.Scatter(\n",
    "            y=d[\"trace\"] - i * 0.5,\n",
    "            name=bytes(d[\"input\"]).decode(),\n",
    "        )\n",
    "    )\n",
    "fig.show()\n",
    "\n",
    "fig = pgo.Figure()\n",
    "base_trace = data[-5]\n",
    "for d in data[-4:]:\n",
    "    fig.add_trace(\n",
    "        pgo.Scatter(\n",
    "            y=abs(base_trace[\"trace\"] - d[\"trace\"]),\n",
    "            name=f'abs({bytes(base_trace[\"input\"]).decode()} - '\n",
    "            f'{bytes(d[\"input\"]).decode()})'\n",
    "            f'=> sum = {sum(abs(base_trace[\"trace\"] - d[\"trace\"]))}',\n",
    "        )\n",
    "    )\n",
    "fig.show()"
   ]
  },
  {
   "cell_type": "markdown",
   "metadata": {},
   "source": [
    "<div style=\"border: 3px solid plum; border-radius: 5px; padding: 5px; width: calc(100% - 20px);\">\n",
    "<div class=\"h2\" style=\"font-variant: all-small-caps;\">Exercise 3</div>\n",
    "\n",
    "Crack the password using the differences!\n",
    "\n",
    "1. Write down the attack in pseudocode.\n",
    "2. Implement an automated attack.\n",
    "\n",
    "</div>"
   ]
  },
  {
   "cell_type": "code",
   "execution_count": null,
   "metadata": {},
   "outputs": [],
   "source": [
    "import string\n",
    "\n",
    "\n",
    "def sad(trace1, trace2):\n",
    "    return sum(abs(trace1 - trace2))\n",
    "\n",
    "\n",
    "def capture_attempt(attempt: bytes):\n",
    "    return capture_device.capture(\n",
    "        number_of_traces=1,\n",
    "        number_of_samples=500,\n",
    "        input=lambda _: attempt,\n",
    "    )[0][\"trace\"]\n",
    "\n",
    "\n",
    "def verify_attempt(attempt: bytes) -> bool:\n",
    "    with capture_device.connected():\n",
    "        result = capture_device.capture_single_trace(\n",
    "            number_of_samples=500,\n",
    "            input=attempt,\n",
    "            read_output=True\n",
    "        )\n",
    "        return result[1] == b\"\\x00\"\n",
    "\n",
    "\n",
    "def sad_attack(\n",
    "    length_of_password=8,\n",
    "    test_character=b\"0\",\n",
    "    sad_threshold=8,\n",
    "    charlist=string.ascii_lowercase.encode(),\n",
    "):\n",
    "    attempt = b\"\"\n",
    "    for _ in range(length_of_password):\n",
    "        base_trace = capture_attempt(\n",
    "            attempt\n",
    "            + test_character\n",
    "            + (length_of_password - len(attempt) - 1) * test_character\n",
    "        )\n",
    "        for char in charlist:\n",
    "            char = bytes([char])\n",
    "            trace = capture_attempt(\n",
    "                attempt\n",
    "                + char\n",
    "                + (length_of_password - len(attempt) - 1) * test_character\n",
    "            )\n",
    "            sad_value = sad(base_trace, trace)\n",
    "            print(\"char: \", char, \"=> sad: \", sad_value)\n",
    "            if sad_value >= sad_threshold:\n",
    "                attempt += char\n",
    "                print(attempt)\n",
    "                break\n",
    "        else:\n",
    "            return False, attempt\n",
    "    return verify_attempt(attempt), attempt\n",
    "\n",
    "\n",
    "def sad_attack_nothreshold(\n",
    "    length_of_password=8,\n",
    "    charlist=string.ascii_lowercase.encode(),\n",
    "):\n",
    "    attempt = b\"\"\n",
    "    for _ in range(length_of_password):\n",
    "        data = capture_device.capture(\n",
    "            number_of_traces=len(charlist),\n",
    "            number_of_samples=1000,\n",
    "            input=lambda i: attempt + bytes([charlist[i]]),\n",
    "        )[\"trace\"]\n",
    "        diffs1 = np.sum(np.abs(data - data[0, :]), axis=1)\n",
    "        diffs2 = np.sum(np.abs(data - data[1, :]), axis=1)\n",
    "        if np.mean(diffs1) <= np.mean(diffs2):\n",
    "            diffs = diffs1\n",
    "        else:\n",
    "            diffs = diffs2\n",
    "        attempt += bytes([charlist[np.argmax(diffs)]])\n",
    "        print(attempt)\n",
    "    return verify_attempt(attempt), attempt\n",
    "\n",
    "\n",
    "sad_attack_nothreshold()"
   ]
  },
  {
   "cell_type": "markdown",
   "metadata": {},
   "source": [
    "<div style=\"border: 3px solid plum; border-radius: 5px; padding: 5px; width: calc(100% - 20px);\">\n",
    "<div class=\"h2\" style=\"font-variant: all-small-caps;\">Exercise 4</div>\n",
    "\n",
    "1. Change `stored_password` and download the program (execute `capture` once).\n",
    "2. Exchange your ChipWhisperer with another student.\n",
    "3. Can you crack the password of your colleague?\n",
    "\n",
    "</div>"
   ]
  },
  {
   "cell_type": "markdown",
   "metadata": {},
   "source": [
    "## The sum of absolute differences\n",
    "In this example we want to see how a technique called SAD (sum of absolute differences) is useful to auto-detect whether a character was correct or not.\n",
    "Given two traces $t_1, t_2$ their SAD value is defined as:\n",
    "$$\\text{SAD}(t_1, t_2) := \\sum_i \\big| t_1[i] - t_2[i] \\big|,$$\n",
    "where $t[i]$ is the value of trace $t$ at point $i$."
   ]
  },
  {
   "cell_type": "markdown",
   "metadata": {},
   "source": [
    "This attack is an example for a _Timing attack_. Further information: https://en.wikipedia.org/wiki/Timing_attack"
   ]
  }
 ],
 "metadata": {
  "kernelspec": {
   "display_name": ".venv",
   "language": "python",
   "name": "python3"
  },
  "language_info": {
   "codemirror_mode": {
    "name": "ipython",
    "version": 3
   },
   "file_extension": ".py",
   "mimetype": "text/x-python",
   "name": "python",
   "nbconvert_exporter": "python",
   "pygments_lexer": "ipython3",
   "version": "3.12.6"
  }
 },
 "nbformat": 4,
 "nbformat_minor": 2
}
